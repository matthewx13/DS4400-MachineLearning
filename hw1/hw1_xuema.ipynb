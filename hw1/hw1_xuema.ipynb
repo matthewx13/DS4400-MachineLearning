{
 "cells": [
  {
   "cell_type": "code",
   "execution_count": 2,
   "id": "cbfc0c4d",
   "metadata": {},
   "outputs": [
    {
     "name": "stdout",
     "output_type": "stream",
     "text": [
      ".. _diabetes_dataset:\n",
      "\n",
      "Diabetes dataset\n",
      "----------------\n",
      "\n",
      "Ten baseline variables, age, sex, body mass index, average blood\n",
      "pressure, and six blood serum measurements were obtained for each of n =\n",
      "442 diabetes patients, as well as the response of interest, a\n",
      "quantitative measure of disease progression one year after baseline.\n",
      "\n",
      "**Data Set Characteristics:**\n",
      "\n",
      "  :Number of Instances: 442\n",
      "\n",
      "  :Number of Attributes: First 10 columns are numeric predictive values\n",
      "\n",
      "  :Target: Column 11 is a quantitative measure of disease progression one year after baseline\n",
      "\n",
      "  :Attribute Information:\n",
      "      - age     age in years\n",
      "      - sex\n",
      "      - bmi     body mass index\n",
      "      - bp      average blood pressure\n",
      "      - s1      tc, total serum cholesterol\n",
      "      - s2      ldl, low-density lipoproteins\n",
      "      - s3      hdl, high-density lipoproteins\n",
      "      - s4      tch, total cholesterol / HDL\n",
      "      - s5      ltg, possibly log of serum triglycerides level\n",
      "      - s6      glu, blood sugar level\n",
      "\n",
      "Note: Each of these 10 feature variables have been mean centered and scaled by the standard deviation times the square root of `n_samples` (i.e. the sum of squares of each column totals 1).\n",
      "\n",
      "Source URL:\n",
      "https://www4.stat.ncsu.edu/~boos/var.select/diabetes.html\n",
      "\n",
      "For more information see:\n",
      "Bradley Efron, Trevor Hastie, Iain Johnstone and Robert Tibshirani (2004) \"Least Angle Regression,\" Annals of Statistics (with discussion), 407-499.\n",
      "(https://web.stanford.edu/~hastie/Papers/LARS/LeastAngle_2002.pdf)\n",
      "\n"
     ]
    }
   ],
   "source": [
    "from sklearn.datasets import load_diabetes\n",
    "data = load_diabetes()\n",
    "X, y = data.data, data.target\n",
    "print(data.DESCR)"
   ]
  },
  {
   "cell_type": "markdown",
   "id": "f72fcca1",
   "metadata": {},
   "source": [
    "# Question 2\n",
    "\n",
    "a) Topic of the data: The data tells us that there are 442 diabetic patients and for each patient there is ten baseline variables (age, sex, bmi, average blood pressure, and more). The response variable of interest is a quantitative measure of disease progression one year after baseline.\n",
    "\n",
    "b) Size of the data: There are 442 instances, 10 numeric predictive varaibles, \n",
    "\n",
    "c) Which is the target feature: Column 11, which is a quantitative measure of diease preogression one year after baseline. What we are predicting.\n",
    "\n",
    "d) What kind of plots you want to include in the EDA: Histograms: For visualizing the distribution of numeric features like age, bmi, average blood pressure, and serum measurements. Scatterplots: To explore relationships between pairs of features or between features and the target variable. Box plots: For identifying outliers and visualizing the spread of data.\n",
    "    \n",
    "\n",
    "e) Describe three steps that you think are necessary to pre-process the data:\n",
    "\n",
    "We should check first for any missing values for any of the variables. We will learn more about what is missing, how many are missing, and why they are missing. Then, we will decide on whether to remove or impute or do nothing.\n",
    "\n",
    "Then we should plot the data to inspect whether there is any missing data or outliers. It will also help us decide what kind of models we will want to use later for the data at hand. We essentially just learn more about the diabetes data.\n",
    "\n",
    "We should also split the data into training and testing. This will help has the gauge the performance of our model.\n"
   ]
  },
  {
   "cell_type": "code",
   "execution_count": null,
   "id": "2c32a04d",
   "metadata": {},
   "outputs": [],
   "source": []
  }
 ],
 "metadata": {
  "kernelspec": {
   "display_name": "Python 3 (ipykernel)",
   "language": "python",
   "name": "python3"
  },
  "language_info": {
   "codemirror_mode": {
    "name": "ipython",
    "version": 3
   },
   "file_extension": ".py",
   "mimetype": "text/x-python",
   "name": "python",
   "nbconvert_exporter": "python",
   "pygments_lexer": "ipython3",
   "version": "3.9.17"
  }
 },
 "nbformat": 4,
 "nbformat_minor": 5
}
