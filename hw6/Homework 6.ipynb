{
 "cells": [
  {
   "cell_type": "markdown",
   "id": "694f54d2",
   "metadata": {},
   "source": [
    "### Question 1: Wine classification (50)\n",
    "\n",
    "These data are the results of a chemical analysis of wines grown in the same region in Italy but derived from three different cultivars. The analysis determined the quantities of 13 constituents found in each of the three types of wines. "
   ]
  },
  {
   "cell_type": "code",
   "execution_count": 1,
   "id": "7f77f63f",
   "metadata": {},
   "outputs": [
    {
     "data": {
      "text/html": [
       "<div>\n",
       "<style scoped>\n",
       "    .dataframe tbody tr th:only-of-type {\n",
       "        vertical-align: middle;\n",
       "    }\n",
       "\n",
       "    .dataframe tbody tr th {\n",
       "        vertical-align: top;\n",
       "    }\n",
       "\n",
       "    .dataframe thead th {\n",
       "        text-align: right;\n",
       "    }\n",
       "</style>\n",
       "<table border=\"1\" class=\"dataframe\">\n",
       "  <thead>\n",
       "    <tr style=\"text-align: right;\">\n",
       "      <th></th>\n",
       "      <th>class</th>\n",
       "    </tr>\n",
       "  </thead>\n",
       "  <tbody>\n",
       "    <tr>\n",
       "      <th>0</th>\n",
       "      <td>1</td>\n",
       "    </tr>\n",
       "    <tr>\n",
       "      <th>1</th>\n",
       "      <td>1</td>\n",
       "    </tr>\n",
       "    <tr>\n",
       "      <th>2</th>\n",
       "      <td>1</td>\n",
       "    </tr>\n",
       "    <tr>\n",
       "      <th>3</th>\n",
       "      <td>1</td>\n",
       "    </tr>\n",
       "    <tr>\n",
       "      <th>4</th>\n",
       "      <td>1</td>\n",
       "    </tr>\n",
       "    <tr>\n",
       "      <th>...</th>\n",
       "      <td>...</td>\n",
       "    </tr>\n",
       "    <tr>\n",
       "      <th>173</th>\n",
       "      <td>3</td>\n",
       "    </tr>\n",
       "    <tr>\n",
       "      <th>174</th>\n",
       "      <td>3</td>\n",
       "    </tr>\n",
       "    <tr>\n",
       "      <th>175</th>\n",
       "      <td>3</td>\n",
       "    </tr>\n",
       "    <tr>\n",
       "      <th>176</th>\n",
       "      <td>3</td>\n",
       "    </tr>\n",
       "    <tr>\n",
       "      <th>177</th>\n",
       "      <td>3</td>\n",
       "    </tr>\n",
       "  </tbody>\n",
       "</table>\n",
       "<p>178 rows × 1 columns</p>\n",
       "</div>"
      ],
      "text/plain": [
       "     class\n",
       "0        1\n",
       "1        1\n",
       "2        1\n",
       "3        1\n",
       "4        1\n",
       "..     ...\n",
       "173      3\n",
       "174      3\n",
       "175      3\n",
       "176      3\n",
       "177      3\n",
       "\n",
       "[178 rows x 1 columns]"
      ]
     },
     "execution_count": 1,
     "metadata": {},
     "output_type": "execute_result"
    }
   ],
   "source": [
    "from ucimlrepo import fetch_ucirepo \n",
    "  \n",
    "# fetch dataset \n",
    "wine = fetch_ucirepo(id=109) \n",
    "  \n",
    "# data (as pandas dataframes) \n",
    "X = wine.data.features \n",
    "y = wine.data.targets \n",
    "y"
   ]
  },
  {
   "cell_type": "markdown",
   "id": "0118af75",
   "metadata": {},
   "source": [
    "1. Split the data into training and testing(20%). Scale the data. "
   ]
  },
  {
   "cell_type": "code",
   "execution_count": 2,
   "id": "817b8436",
   "metadata": {},
   "outputs": [],
   "source": [
    "from sklearn.metrics import precision_score, recall_score, f1_score\n",
    "from sklearn.model_selection import train_test_split\n",
    "import numpy as np\n",
    "import matplotlib.pyplot as plt\n",
    "import seaborn as sns\n",
    "from sklearn.neighbors import KNeighborsClassifier\n",
    "from sklearn.preprocessing import StandardScaler\n",
    "from sklearn.metrics import accuracy_score\n",
    "from sklearn.svm import SVC\n",
    "from sklearn.metrics import accuracy_score\n",
    "\n",
    "# Split the dataset into training and testing sets\n",
    "X_train, X_test, y_train, y_test = train_test_split(X, y, test_size=0.2, \n",
    "                                                    random_state=4400)\n",
    "\n",
    "# Scale the training and testing data using StandardScaler\n",
    "scaler = StandardScaler()\n",
    "X_train_scaled = scaler.fit_transform(X_train)\n",
    "X_test_scaled = scaler.fit_transform(X_test)"
   ]
  },
  {
   "cell_type": "markdown",
   "id": "496a86e5",
   "metadata": {},
   "source": [
    "2. Fit a SVM model, using the type of wine as the target value, and Alcohol\tand Malicacid as the features. Report the classification accuracy. "
   ]
  },
  {
   "cell_type": "code",
   "execution_count": 3,
   "id": "40853790",
   "metadata": {},
   "outputs": [
    {
     "name": "stdout",
     "output_type": "stream",
     "text": [
      "0.7808988764044944\n"
     ]
    },
    {
     "name": "stderr",
     "output_type": "stream",
     "text": [
      "/Users/matthewxue/opt/anaconda3/lib/python3.9/site-packages/sklearn/utils/validation.py:1184: DataConversionWarning: A column-vector y was passed when a 1d array was expected. Please change the shape of y to (n_samples, ), for example using ravel().\n",
      "  y = column_or_1d(y, warn=True)\n"
     ]
    }
   ],
   "source": [
    "# Select only the \"Alcohol\" and \"Malicacid\" columns as features\n",
    "X = X[['Alcohol', 'Malicacid']]\n",
    "y = wine.data.targets\n",
    "\n",
    "# Create an SVM classifier\n",
    "svm_classifier = SVC(kernel = \"linear\")\n",
    "\n",
    "# Train the classifier on the training data\n",
    "svm_classifier.fit(X, y)\n",
    "\n",
    "# Make predictions on the testing data\n",
    "y_pred = svm_classifier.predict(X)\n",
    "\n",
    "# Calculate the accuracy of the classifier\n",
    "print(accuracy_score(y, y_pred))"
   ]
  },
  {
   "cell_type": "code",
   "execution_count": 4,
   "id": "bbcaf476",
   "metadata": {},
   "outputs": [
    {
     "name": "stdout",
     "output_type": "stream",
     "text": [
      "0.8611111111111112\n"
     ]
    }
   ],
   "source": [
    "import warnings\n",
    "warnings.filterwarnings('ignore')\n",
    "\n",
    "# Select only the \"Alcohol\" and \"Malicacid\" columns as features\n",
    "X_selected = X[['Alcohol', 'Malicacid']]\n",
    "\n",
    "# Split the dataset into training and testing sets\n",
    "X_train, X_test, y_train, y_test = train_test_split(X_selected, y, test_size=0.2, \n",
    "                                                    random_state=4400)\n",
    "\n",
    "# Scale the training and testing data using StandardScaler\n",
    "scaler = StandardScaler()\n",
    "X_train_scaled = scaler.fit_transform(X_train)\n",
    "X_test_scaled = scaler.fit_transform(X_test)\n",
    "\n",
    "# Create an SVM classifier\n",
    "svm_classifier = SVC(kernel = \"linear\")\n",
    "\n",
    "# Train the classifier on the scaled training data\n",
    "svm_classifier.fit(X_train_scaled, y_train)\n",
    "y_pred_scaled = svm_classifier.predict(X_test_scaled)\n",
    "accuracy_scaled = accuracy_score(y_test, y_pred_scaled)\n",
    "\n",
    "print(accuracy_scaled)"
   ]
  },
  {
   "cell_type": "code",
   "execution_count": 5,
   "id": "a99a5701",
   "metadata": {},
   "outputs": [
    {
     "data": {
      "text/html": [
       "<div>\n",
       "<style scoped>\n",
       "    .dataframe tbody tr th:only-of-type {\n",
       "        vertical-align: middle;\n",
       "    }\n",
       "\n",
       "    .dataframe tbody tr th {\n",
       "        vertical-align: top;\n",
       "    }\n",
       "\n",
       "    .dataframe thead th {\n",
       "        text-align: right;\n",
       "    }\n",
       "</style>\n",
       "<table border=\"1\" class=\"dataframe\">\n",
       "  <thead>\n",
       "    <tr style=\"text-align: right;\">\n",
       "      <th></th>\n",
       "      <th>Alcohol</th>\n",
       "      <th>Malicacid</th>\n",
       "    </tr>\n",
       "  </thead>\n",
       "  <tbody>\n",
       "    <tr>\n",
       "      <th>0</th>\n",
       "      <td>14.23</td>\n",
       "      <td>1.71</td>\n",
       "    </tr>\n",
       "    <tr>\n",
       "      <th>1</th>\n",
       "      <td>13.20</td>\n",
       "      <td>1.78</td>\n",
       "    </tr>\n",
       "    <tr>\n",
       "      <th>2</th>\n",
       "      <td>13.16</td>\n",
       "      <td>2.36</td>\n",
       "    </tr>\n",
       "    <tr>\n",
       "      <th>3</th>\n",
       "      <td>14.37</td>\n",
       "      <td>1.95</td>\n",
       "    </tr>\n",
       "    <tr>\n",
       "      <th>4</th>\n",
       "      <td>13.24</td>\n",
       "      <td>2.59</td>\n",
       "    </tr>\n",
       "    <tr>\n",
       "      <th>...</th>\n",
       "      <td>...</td>\n",
       "      <td>...</td>\n",
       "    </tr>\n",
       "    <tr>\n",
       "      <th>173</th>\n",
       "      <td>13.71</td>\n",
       "      <td>5.65</td>\n",
       "    </tr>\n",
       "    <tr>\n",
       "      <th>174</th>\n",
       "      <td>13.40</td>\n",
       "      <td>3.91</td>\n",
       "    </tr>\n",
       "    <tr>\n",
       "      <th>175</th>\n",
       "      <td>13.27</td>\n",
       "      <td>4.28</td>\n",
       "    </tr>\n",
       "    <tr>\n",
       "      <th>176</th>\n",
       "      <td>13.17</td>\n",
       "      <td>2.59</td>\n",
       "    </tr>\n",
       "    <tr>\n",
       "      <th>177</th>\n",
       "      <td>14.13</td>\n",
       "      <td>4.10</td>\n",
       "    </tr>\n",
       "  </tbody>\n",
       "</table>\n",
       "<p>178 rows × 2 columns</p>\n",
       "</div>"
      ],
      "text/plain": [
       "     Alcohol  Malicacid\n",
       "0      14.23       1.71\n",
       "1      13.20       1.78\n",
       "2      13.16       2.36\n",
       "3      14.37       1.95\n",
       "4      13.24       2.59\n",
       "..       ...        ...\n",
       "173    13.71       5.65\n",
       "174    13.40       3.91\n",
       "175    13.27       4.28\n",
       "176    13.17       2.59\n",
       "177    14.13       4.10\n",
       "\n",
       "[178 rows x 2 columns]"
      ]
     },
     "execution_count": 5,
     "metadata": {},
     "output_type": "execute_result"
    }
   ],
   "source": [
    "X"
   ]
  },
  {
   "cell_type": "markdown",
   "id": "73954ac5",
   "metadata": {},
   "source": [
    "3. Visualize the result from previous question. "
   ]
  },
  {
   "cell_type": "code",
   "execution_count": 6,
   "id": "a0587d69",
   "metadata": {
    "scrolled": false
   },
   "outputs": [
    {
     "data": {
      "image/png": "[encoded data removed]",
      "text/plain": [
       "<Figure size 800x600 with 1 Axes>"
      ]
     },
     "metadata": {},
     "output_type": "display_data"
    }
   ],
   "source": [
    "# Import the necessary libraries\n",
    "import matplotlib.pyplot as plt\n",
    "import numpy as np\n",
    "from ucimlrepo import fetch_ucirepo\n",
    "from sklearn.svm import SVC\n",
    "\n",
    "# turn the X and y datapoints into numpy arrays\n",
    "X = wine.data.features[['Alcohol', 'Malicacid']].values\n",
    "X = wine.data.features[['Alcohol', 'Malicacid']].to_numpy()\n",
    "y = wine.data.targets.values\n",
    "y = wine.data.targets.to_numpy()\n",
    "\n",
    "# Fit SVM model\n",
    "svm_model = SVC(kernel='linear')\n",
    "svm_model.fit(X, y)\n",
    "\n",
    "# Create a meshgrid of points to make predictions\n",
    "x_min, x_max = X[:, 0].min() - 1, X[:, 0].max() + 1\n",
    "y_min, y_max = X[:, 1].min() - 1, X[:, 1].max() + 1\n",
    "xx, yy = np.meshgrid(np.arange(x_min, x_max, 0.02),\n",
    "                     np.arange(y_min, y_max, 0.02))\n",
    "grid_points = np.c_[xx.ravel(), yy.ravel()]\n",
    "\n",
    "# Make predictions on the meshgrid\n",
    "Z = svm_model.predict(grid_points)\n",
    "Z = Z.reshape(xx.shape)\n",
    "\n",
    "# Plot the decision boundary\n",
    "plt.figure(figsize=(8, 6))\n",
    "plt.contourf(xx, yy, Z, cmap=plt.cm.Paired, alpha=0.8)\n",
    "plt.scatter(X[:, 0], X[:, 1], c=y, cmap=plt.cm.Paired, edgecolor='k')\n",
    "plt.xlabel('Petal Length')\n",
    "plt.ylabel('Petal Width')\n",
    "plt.title('SVM Decision Boundary (using petal length and petal width)')\n",
    "plt.show()"
   ]
  },
  {
   "cell_type": "markdown",
   "id": "9feba1bc",
   "metadata": {},
   "source": [
    "4. Fit the SVM model, using all features and type of wines as the target value. Divide the training data into training and validation. Use the validation part to tune the parameter of kernel type and the value of C and then the training part to fit the model. Report the classification report table on test data, as well as the best parameters. "
   ]
  },
  {
   "cell_type": "code",
   "execution_count": 7,
   "id": "867ae217",
   "metadata": {},
   "outputs": [
    {
     "name": "stdout",
     "output_type": "stream",
     "text": [
      "{'C': 0.1, 'kernel': 'linear'}\n",
      "Best Hyperparameters: {'C': 0.1, 'kernel': 'linear'}\n",
      "Accuracy: 1.0\n"
     ]
    }
   ],
   "source": [
    "from sklearn.model_selection import GridSearchCV\n",
    "\n",
    "X = wine.data.features \n",
    "y = wine.data.targets \n",
    "\n",
    "# Split the dataset into training and testing sets\n",
    "X_train, X_test, y_train, y_test = train_test_split(X, y, test_size=0.2, \n",
    "                                                    random_state=4400)\n",
    "\n",
    "# Scale the training and testing data using StandardScaler\n",
    "scaler = StandardScaler()\n",
    "X_train_scaled = scaler.fit_transform(X_train)\n",
    "X_test_scaled = scaler.fit_transform(X_test)\n",
    "\n",
    "\n",
    "# Define the hyperparameters to tune\n",
    "param_grid = {\n",
    "    'kernel': ['linear', 'poly', 'rbf', 'sigmoid'],\n",
    "    'C': [0.01, 0.1, 1, 10]\n",
    "}\n",
    "\n",
    "# Perform grid search cross-validation\n",
    "svm_classifier = SVC()\n",
    "grid_search = GridSearchCV(svm_classifier, param_grid, cv = 5)\n",
    "grid_search.fit(X_train_scaled, y_train)\n",
    "\n",
    "# Get the best hyperparameters\n",
    "best_params = grid_search.best_params_\n",
    "print(best_params)\n",
    "\n",
    "# Train the classifier on the best hyperparameters\n",
    "best_classifier = SVC(**best_params)\n",
    "best_classifier.fit(X_train_scaled, y_train)\n",
    "\n",
    "# Make predictions on the testing data\n",
    "y_pred = best_classifier.predict(X_test_scaled)\n",
    "\n",
    "# Calculate accuracy\n",
    "accuracy = accuracy_score(y_test, y_pred)\n",
    "\n",
    "# Print the best hyperparameters and accuracy\n",
    "\n",
    "print(\"Best Hyperparameters:\", best_params)\n",
    "print(\"Accuracy:\", accuracy)"
   ]
  },
  {
   "cell_type": "markdown",
   "id": "097fcfbf",
   "metadata": {},
   "source": [
    "5. Now, use the Alcohol as the target and all the other features as the features. Fit a SVM and report the metrics. (No need to tune the parameters)"
   ]
  },
  {
   "cell_type": "markdown",
   "id": "4b73aaea",
   "metadata": {},
   "source": [
    "### Question 2: Explain the concepts (20)"
   ]
  },
  {
   "cell_type": "markdown",
   "id": "1ee46d0a",
   "metadata": {},
   "source": [
    "1. Explain what is margin and support vector in the SVM (5)"
   ]
  },
  {
   "cell_type": "markdown",
   "id": "97c75406",
   "metadata": {},
   "source": [
    "Definition of Margin: SVR is a variant of SVM that is used for regression tasks and SVR defines an ε-insensitive tube around the target values. If there are any predictions that fall within the ε-insensitive tube, then the prediction is considered accurate and it will not contribute to the loss function. Predictions that land outside this tub will be considered an error and it will contribute to the loss funtion. \n",
    "\n",
    "Definition of Support Vectors: SVR has the ability to identify data points that lie on or near the margin, which are called the support vectors. The support vectors have a major impact on determining the ε-insensitive tube and the regression function."
   ]
  },
  {
   "cell_type": "markdown",
   "id": "bd9eeb96",
   "metadata": {},
   "source": [
    "2. Explain the difference and similarity between SVC and SVR (10)"
   ]
  },
  {
   "cell_type": "markdown",
   "id": "89260a7d",
   "metadata": {},
   "source": []
  },
  {
   "cell_type": "markdown",
   "id": "ae2627db",
   "metadata": {},
   "source": [
    "3. Explain the difference of the definition of error in SVR and linear regression (5)"
   ]
  },
  {
   "cell_type": "code",
   "execution_count": null,
   "id": "2acbad52",
   "metadata": {},
   "outputs": [],
   "source": []
  },
  {
   "cell_type": "markdown",
   "id": "0684a3fd",
   "metadata": {},
   "source": [
    "### Question 3:  KNN with regression (30)\n",
    "\n",
    "Following is a simulation data with three features. "
   ]
  },
  {
   "cell_type": "code",
   "execution_count": 21,
   "id": "c6d7ec29",
   "metadata": {},
   "outputs": [],
   "source": [
    "import numpy as np\n",
    "import matplotlib.pyplot as plt\n",
    "from sklearn.datasets import make_regression\n",
    "from sklearn.model_selection import train_test_split, GridSearchCV\n",
    "from sklearn.neighbors import KNeighborsRegressor\n",
    "from sklearn.metrics import mean_squared_error\n",
    "\n",
    "# Generate a random regression dataset\n",
    "X, y = make_regression(n_samples=1000, n_features=3, noise=20, random_state=5220)\n",
    "y = y + np.sin(X[:, 0] * 3) + X[:, 1] ** 2\n",
    "\n",
    "# Split the data into training and test sets\n",
    "X_train, X_test, y_train, y_test = train_test_split(X, y, test_size=0.2, random_state=5220)"
   ]
  },
  {
   "cell_type": "markdown",
   "id": "d2649c2e",
   "metadata": {},
   "source": [
    "1. Fit a KNN model. Tune the parameter of K and distance metric (Euclidean and Manhattan). Print the MSE with the best parameter. (15) "
   ]
  },
  {
   "cell_type": "code",
   "execution_count": 22,
   "id": "a87086a7",
   "metadata": {},
   "outputs": [
    {
     "name": "stdout",
     "output_type": "stream",
     "text": [
      "{'metric': 'euclidean', 'n_neighbors': 5}\n",
      "652.1642782709176\n"
     ]
    }
   ],
   "source": [
    "# Define the parameter grid for tuning\n",
    "\n",
    "param_grid = {'n_neighbors': range(1, 21), \n",
    "             'metric': ['euclidean', 'manhattan']}\n",
    "\n",
    "# Fit KNN model with grid search for parameter tuning\n",
    "knn_model = KNeighborsRegressor()\n",
    "grid_search = GridSearchCV(knn_model, param_grid, cv = 5, \n",
    "                           scoring = \"neg_mean_squared_error\")\n",
    "grid_search.fit(X_train, y_train)\n",
    "\n",
    "# Get the best parameter and best score from the grid search\n",
    "best_params = grid_search.best_params_\n",
    "print(best_params)\n",
    "\n",
    "# Fit KNN model with the best parameter\n",
    "knn_best = KNeighborsRegressor(n_neighbors = best_param)\n",
    "knn_best.fit(X_train, y_train)\n",
    "\n",
    "# Make predictions on the test set\n",
    "y_pred = knn_best.predict(X_test)\n",
    "\n",
    "# Calculate mean squared error on the test set\n",
    "mse = mean_squared_error(y_test, y_pred)\n",
    "print(mse)"
   ]
  },
  {
   "cell_type": "code",
   "execution_count": 23,
   "id": "d32036b2",
   "metadata": {},
   "outputs": [
    {
     "name": "stdout",
     "output_type": "stream",
     "text": [
      "{'metric': 'euclidean', 'n_neighbors': 5}\n",
      "724.5780434114346\n"
     ]
    }
   ],
   "source": [
    "# Perform data scaling\n",
    "scaler = StandardScaler()\n",
    "X_train_scaled = scaler.fit_transform(X_train)\n",
    "X_test_scaled = scaler.fit_transform(X_test)\n",
    "\n",
    "# Define the parameter grid for tuning\n",
    "param_grid = {'n_neighbors': range(1, 21), \n",
    "             'metric': ['euclidean', 'manhattan']}\n",
    "\n",
    "# Fit KNN model with grid search for parameter tuning\n",
    "knn_model = KNeighborsRegressor()\n",
    "grid_search = GridSearchCV(knn_model, param_grid, cv = 5, \n",
    "                           scoring = \"neg_mean_squared_error\")\n",
    "grid_search.fit(X_train_scaled, y_train)\n",
    "\n",
    "# Get the best parameter and best score from the grid search\n",
    "best_params = grid_search.best_params_\n",
    "print(best_params)\n",
    "\n",
    "# Fit KNN model with the best parameter\n",
    "knn_best = KNeighborsRegressor(n_neighbors = best_param)\n",
    "knn_best.fit(X_train_scaled, y_train)\n",
    "\n",
    "# Make predictions on the test set\n",
    "y_pred = knn_best.predict(X_test_scaled)\n",
    "\n",
    "# Calculate mean squared error on the test set\n",
    "mse = mean_squared_error(y_test, y_pred)\n",
    "print(mse)"
   ]
  },
  {
   "cell_type": "markdown",
   "id": "ad607009",
   "metadata": {},
   "source": [
    "2. Repeat the simulation process with the number of feature equal to 10. Redo the previous question. (15)"
   ]
  },
  {
   "cell_type": "code",
   "execution_count": 24,
   "id": "1b6d59e6",
   "metadata": {},
   "outputs": [],
   "source": [
    "# Generate a random regression dataset\n",
    "X, y = make_regression(n_samples=1000, n_features=10, noise=20, random_state=5220)\n",
    "y = y + np.sin(X[:, 0] * 3) + X[:, 1] ** 2\n",
    "\n",
    "# Split the data into training and test sets\n",
    "X_train, X_test, y_train, y_test = train_test_split(X, y, test_size=0.2, random_state=5220)"
   ]
  },
  {
   "cell_type": "code",
   "execution_count": 26,
   "id": "bbe87b33",
   "metadata": {},
   "outputs": [
    {
     "name": "stdout",
     "output_type": "stream",
     "text": [
      "{'metric': 'euclidean', 'n_neighbors': 6}\n",
      "8875.817618261119\n"
     ]
    }
   ],
   "source": [
    "# Define the parameter grid for tuning\n",
    "\n",
    "param_grid = {'n_neighbors': range(1, 21), \n",
    "             'metric': ['euclidean', 'manhattan']}\n",
    "\n",
    "# Fit KNN model with grid search for parameter tuning\n",
    "knn_model = KNeighborsRegressor()\n",
    "grid_search = GridSearchCV(knn_model, param_grid, cv = 5, \n",
    "                           scoring = \"neg_mean_squared_error\")\n",
    "grid_search.fit(X_train, y_train)\n",
    "\n",
    "# Get the best parameter and best score from the grid search\n",
    "best_params = grid_search.best_params_\n",
    "print(best_params)\n",
    "\n",
    "# Fit KNN model with the best parameter\n",
    "knn_best = KNeighborsRegressor(n_neighbors = best_param)\n",
    "knn_best.fit(X_train, y_train)\n",
    "\n",
    "# Make predictions on the test set\n",
    "y_pred = knn_best.predict(X_test)\n",
    "\n",
    "# Calculate mean squared error on the test set\n",
    "mse = mean_squared_error(y_test, y_pred)\n",
    "print(mse)"
   ]
  },
  {
   "cell_type": "code",
   "execution_count": 27,
   "id": "0fe96b7e",
   "metadata": {},
   "outputs": [
    {
     "name": "stdout",
     "output_type": "stream",
     "text": [
      "{'metric': 'euclidean', 'n_neighbors': 5}\n",
      "9125.760810538313\n"
     ]
    }
   ],
   "source": [
    "# Perform data scaling\n",
    "scaler = StandardScaler()\n",
    "X_train_scaled = scaler.fit_transform(X_train)\n",
    "X_test_scaled = scaler.fit_transform(X_test)\n",
    "\n",
    "# Define the parameter grid for tuning\n",
    "param_grid = {'n_neighbors': range(1, 21), \n",
    "             'metric': ['euclidean', 'manhattan']}\n",
    "\n",
    "# Fit KNN model with grid search for parameter tuning\n",
    "knn_model = KNeighborsRegressor()\n",
    "grid_search = GridSearchCV(knn_model, param_grid, cv = 5, \n",
    "                           scoring = \"neg_mean_squared_error\")\n",
    "grid_search.fit(X_train_scaled, y_train)\n",
    "\n",
    "# Get the best parameter and best score from the grid search\n",
    "best_params = grid_search.best_params_\n",
    "print(best_params)\n",
    "\n",
    "# Fit KNN model with the best parameter\n",
    "knn_best = KNeighborsRegressor(n_neighbors = best_param)\n",
    "knn_best.fit(X_train_scaled, y_train)\n",
    "\n",
    "# Make predictions on the test set\n",
    "y_pred = knn_best.predict(X_test_scaled)\n",
    "\n",
    "# Calculate mean squared error on the test set\n",
    "mse = mean_squared_error(y_test, y_pred)\n",
    "print(mse)"
   ]
  },
  {
   "cell_type": "code",
   "execution_count": null,
   "id": "e975dda1",
   "metadata": {},
   "outputs": [],
   "source": []
  }
 ],
 "metadata": {
  "kernelspec": {
   "display_name": "Python 3 (ipykernel)",
   "language": "python",
   "name": "python3"
  },
  "language_info": {
   "codemirror_mode": {
    "name": "ipython",
    "version": 3
   },
   "file_extension": ".py",
   "mimetype": "text/x-python",
   "name": "python",
   "nbconvert_exporter": "python",
   "pygments_lexer": "ipython3",
   "version": "3.9.17"
  }
 },
 "nbformat": 4,
 "nbformat_minor": 5
}
