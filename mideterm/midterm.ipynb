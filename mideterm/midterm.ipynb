{
 "cells": [
  {
   "cell_type": "markdown",
   "id": "0fce005f",
   "metadata": {},
   "source": [
    "## DS4400 Coding Exam\n",
    "\n",
    "This is the coding exam for DS4400. You have 100 minutes in the lecture. Please write down all the codes and in the Code chuck and written answers in the markdown chuck. Add any chuck if you need. Submit the exam as the homework, with both python and pdf file. The exam is open-book, open notes. Please raise your hand if you have any questions. "
   ]
  },
  {
   "cell_type": "markdown",
   "id": "8508c28c",
   "metadata": {},
   "source": [
    "#### Question 1: Data analysis\n",
    "In the following question, you will need to analysis a simulated data. Please answer each question below the instructions. "
   ]
  },
  {
   "cell_type": "code",
   "execution_count": 1,
   "id": "b8d3c248",
   "metadata": {},
   "outputs": [],
   "source": [
    "import numpy as np\n",
    "import pandas as pd\n",
    "\n",
    "# Set a random seed for reproducibility\n",
    "np.random.seed(4400)\n",
    "\n",
    "# Number of samples\n",
    "num_samples = 1000\n",
    "\n",
    "# Create 20 random variables\n",
    "X = pd.DataFrame()\n",
    "for i in np.arange(1, 21):\n",
    "    variable_name = f\"Var{i}\"\n",
    "    X[variable_name] = np.random.rand(1000)\n",
    "\n",
    "# Create a target variable based on some combination of the 20 variables\n",
    "y = (\n",
    "    2 * X[\"Var1\"]\n",
    "    + 0.5 * X[\"Var5\"]\n",
    "    - 1 * X[\"Var10\"]\n",
    "    + np.random.normal(0, 0.5, num_samples)  # Add some noise\n",
    ")\n"
   ]
  },
  {
   "cell_type": "markdown",
   "id": "a1ced033",
   "metadata": {},
   "source": [
    "1. Split the data into training and test data. The proportion of train data should be 70%. "
   ]
  },
  {
   "cell_type": "code",
   "execution_count": 2,
   "id": "0b11274f",
   "metadata": {},
   "outputs": [],
   "source": [
    "import pandas as pd\n",
    "from sklearn.model_selection import train_test_split\n",
    "from sklearn.linear_model import Lasso\n",
    "from sklearn.preprocessing import StandardScaler\n",
    "import matplotlib.pyplot as plt\n",
    "import sklearn\n",
    "from sklearn.linear_model import LinearRegression\n",
    "from sklearn.metrics import mean_squared_error\n",
    "\n",
    "# Define the target variable\n",
    "target = y\n",
    "df_dropped = X\n",
    "\n",
    "# Split the dataset into training and testing sets\n",
    "X_train, X_test, y_train, y_test = train_test_split(df_dropped, target, test_size=0.3, random_state=4400)"
   ]
  },
  {
   "cell_type": "markdown",
   "id": "01306908",
   "metadata": {},
   "source": [
    "2. Fit the model with a linear regression using all the features, report the coefficient table, intercept and MSE. "
   ]
  },
  {
   "cell_type": "code",
   "execution_count": 3,
   "id": "5171226f",
   "metadata": {},
   "outputs": [
    {
     "name": "stdout",
     "output_type": "stream",
     "text": [
      "The MSE of this linear regression model is: 0.28330490934997354\n",
      "The estimated intercept coefficient is -0.023\n",
      "The estimated coefficient for Var1 is 2.014\n",
      "The estimated coefficient for Var2 is -0.070\n",
      "The estimated coefficient for Var3 is -0.119\n",
      "The estimated coefficient for Var4 is 0.015\n",
      "The estimated coefficient for Var5 is 0.426\n",
      "The estimated coefficient for Var6 is 0.022\n",
      "The estimated coefficient for Var7 is 0.050\n",
      "The estimated coefficient for Var8 is 0.098\n",
      "The estimated coefficient for Var9 is -0.073\n",
      "The estimated coefficient for Var10 is -1.096\n",
      "The estimated coefficient for Var11 is 0.007\n",
      "The estimated coefficient for Var12 is 0.078\n",
      "The estimated coefficient for Var13 is 0.025\n",
      "The estimated coefficient for Var14 is -0.015\n",
      "The estimated coefficient for Var15 is -0.052\n",
      "The estimated coefficient for Var16 is -0.034\n",
      "The estimated coefficient for Var17 is -0.081\n",
      "The estimated coefficient for Var18 is 0.126\n",
      "The estimated coefficient for Var19 is 0.086\n",
      "The estimated coefficient for Var20 is 0.119\n"
     ]
    }
   ],
   "source": [
    "import sklearn\n",
    "from sklearn.linear_model import LinearRegression\n",
    "from sklearn.metrics import mean_squared_error\n",
    "\n",
    "\n",
    "# Create a linear regression model\n",
    "lm = LinearRegression()\n",
    "lm.fit(X_train, y_train)\n",
    "y_pred = lm.predict(X_test)\n",
    "\n",
    "\n",
    "# Calculate the mse and print\n",
    "MSE = mean_squared_error(y_test, y_pred)\n",
    "print(f'The MSE of this linear regression model is: {MSE}')\n",
    "\n",
    "# Print the estimated intercept coefficient\n",
    "print('The estimated intercept coefficient is %.3f' % lm.intercept_)\n",
    "\n",
    "# Print the estimated coefficients for all features\n",
    "for feature, coefficient in zip(X.columns, lm.coef_):\n",
    "    print('The estimated coefficient for {} is {:.3f}'.format(feature, coefficient))"
   ]
  },
  {
   "cell_type": "markdown",
   "id": "c359fcdb",
   "metadata": {},
   "source": [
    "3. Fit the model with a polynomial regression with degree 2, report the MSE. Is it necessary to use polynomial regression in this case?"
   ]
  },
  {
   "cell_type": "code",
   "execution_count": 4,
   "id": "35b96567",
   "metadata": {},
   "outputs": [
    {
     "name": "stdout",
     "output_type": "stream",
     "text": [
      "The MSE of this polynomial regression model with degree 2 is: 0.39129598085883627\n"
     ]
    }
   ],
   "source": [
    "from sklearn.preprocessing import PolynomialFeatures\n",
    "\n",
    "degree = 2\n",
    "poly_features = PolynomialFeatures(degree=degree)\n",
    "\n",
    "X_poly_train = poly_features.fit_transform(X_train)\n",
    "X_poly_test = poly_features.fit_transform(X_test)\n",
    "\n",
    "# Create and fit the polynomial regression model\n",
    "poly_model = LinearRegression()\n",
    "poly_model.fit(X_poly_train, y_train)\n",
    "\n",
    "# Calculate the estimated values for each observation\n",
    "y_poly_fit = poly_model.predict(X_poly_test)\n",
    "\n",
    "MSE = mean_squared_error(y_test, y_poly_fit)\n",
    "print(f'The MSE of this polynomial regression model with degree 2 is: {MSE}')"
   ]
  },
  {
   "cell_type": "markdown",
   "id": "80aa9772",
   "metadata": {},
   "source": [
    "The MSE increases when I change the it from a linear model to a polynomial regression with a degree of 2 . It increased the MSE because it might be overfitting. As the degree of the polynomial increases, the model becomes more flexible and can fit the training data points with high precision. It may capture even the noise in the training data, resulting in a lower training error (MSE). So, in this case it probably is not neccessary."
   ]
  },
  {
   "cell_type": "markdown",
   "id": "4612c560",
   "metadata": {},
   "source": [
    "4. Fit the model with a Lasso regression, tune the parameter for the penalty parameter $\\alpha$. Report the best $\\alpha$, MSE and which variables are left in the model in the end. "
   ]
  },
  {
   "cell_type": "code",
   "execution_count": 5,
   "id": "7855bce1",
   "metadata": {},
   "outputs": [],
   "source": [
    "from sklearn.model_selection import GridSearchCV\n",
    "from sklearn.linear_model import Lasso\n",
    "from sklearn.preprocessing import StandardScaler\n",
    "import matplotlib.pyplot as plt\n",
    "\n",
    "# Standardize the features\n",
    "scaler = StandardScaler()\n",
    "X_train_scaled = scaler.fit_transform(X_train)\n",
    "X_test_scaled = scaler.transform(X_test)\n",
    "\n"
   ]
  },
  {
   "cell_type": "code",
   "execution_count": 6,
   "id": "ecdcabe7",
   "metadata": {},
   "outputs": [
    {
     "name": "stdout",
     "output_type": "stream",
     "text": [
      "Mean Squared Error (MSE): 0.29919888159656777\n"
     ]
    }
   ],
   "source": [
    "\n",
    "# Fit a Lasso regression model\n",
    "alpha = 0.1  # L1 regularization strength (adjust as needed)\n",
    "lasso_model = Lasso(alpha=alpha)\n",
    "lasso_model.fit(X_train_scaled, y_train)\n",
    "\n",
    "# Make predictions on the test set\n",
    "y_pred = lasso_model.predict(X_test_scaled)\n",
    "\n",
    "# Calculate the Mean Squared Error (MSE)\n",
    "lasso_mse = mean_squared_error(y_test, y_pred)\n",
    "# Print the results\n",
    "print(\"Mean Squared Error (MSE):\", lasso_mse)"
   ]
  },
  {
   "cell_type": "code",
   "execution_count": 7,
   "id": "4fc9b171",
   "metadata": {},
   "outputs": [
    {
     "name": "stdout",
     "output_type": "stream",
     "text": [
      "Best alpha: 0.01\n"
     ]
    }
   ],
   "source": [
    "# Define a range of alpha values and l1 ratio to tune\n",
    "alphas = [0.001, 0.01, 0.1, 1, 10, 100]\n",
    "\n",
    "# Create a parameter grid for GridSearchCV as a dictionary\n",
    "param_grid = {'alpha': alphas}\n",
    "grid_search = GridSearchCV(lasso_model, param_grid, cv=5, \n",
    "                           scoring='neg_mean_squared_error')\n",
    "grid_search.fit(X_train_scaled, y_train)\n",
    "\n",
    "# Get the best alpha and L1 ratio values from the tuning\n",
    "best_alpha = grid_search.best_params_['alpha']\n",
    "\n",
    "print(f'Best alpha: {best_alpha}')"
   ]
  },
  {
   "cell_type": "code",
   "execution_count": 8,
   "id": "2536a355",
   "metadata": {},
   "outputs": [
    {
     "name": "stdout",
     "output_type": "stream",
     "text": [
      "Mean Squared Error (MSE): 0.27893476514858456\n"
     ]
    }
   ],
   "source": [
    "# Fit a Lasso regression model\n",
    "alpha = 0.1  # L1 regularization strength (adjust as needed)\n",
    "lasso_model = Lasso(alpha=best_alpha)\n",
    "lasso_model.fit(X_train_scaled, y_train)\n",
    "\n",
    "# Make predictions on the test set\n",
    "y_pred = lasso_model.predict(X_test_scaled)\n",
    "\n",
    "# Calculate the Mean Squared Error (MSE)\n",
    "lasso_mse = mean_squared_error(y_test, y_pred)\n",
    "# Print the results\n",
    "print(\"Mean Squared Error (MSE):\", lasso_mse)"
   ]
  },
  {
   "cell_type": "code",
   "execution_count": 9,
   "id": "d64caf1a",
   "metadata": {},
   "outputs": [
    {
     "name": "stdout",
     "output_type": "stream",
     "text": [
      "   Feature  Coefficient Estimate\n",
      "0     Var1              0.566406\n",
      "1     Var2             -0.012671\n",
      "2     Var3             -0.024085\n",
      "3     Var4              0.000000\n",
      "4     Var5              0.111930\n",
      "5     Var6              0.000000\n",
      "6     Var7              0.008001\n",
      "7     Var8              0.017024\n",
      "8     Var9             -0.013400\n",
      "9    Var10             -0.306822\n",
      "10   Var11              0.000000\n",
      "11   Var12              0.012300\n",
      "12   Var13              0.000000\n",
      "13   Var14             -0.000000\n",
      "14   Var15             -0.006134\n",
      "15   Var16             -0.002697\n",
      "16   Var17             -0.016334\n",
      "17   Var18              0.025483\n",
      "18   Var19              0.013672\n",
      "19   Var20              0.024080\n"
     ]
    },
    {
     "data": {
      "image/png": "[encoded data removed]",
      "text/plain": [
       "<Figure size 1200x600 with 1 Axes>"
      ]
     },
     "metadata": {},
     "output_type": "display_data"
    }
   ],
   "source": [
    "coeff_df = pd.DataFrame(df_dropped.columns)\n",
    "coeff_df.columns = [\"Feature\"]\n",
    "coeff_df[\"Coefficient Estimate\"] = pd.Series(lasso_model.coef_)\n",
    "print(coeff_df)\n",
    "\n",
    "# Plot the coefficients\n",
    "plt.figure(figsize=(12, 6))\n",
    "plt.plot(lasso_model.coef_, marker='o', linestyle='-', color='b', label='Lasso Coefficients')\n",
    "plt.xlabel(\"Coefficient Index\")\n",
    "plt.ylabel(\"Coefficient Value\")\n",
    "plt.title(\"Lasso Coefficients\")\n",
    "plt.legend()\n",
    "plt.grid(True)\n",
    "plt.show()"
   ]
  },
  {
   "cell_type": "markdown",
   "id": "8e65e125",
   "metadata": {},
   "source": [
    "5. Define a new target variable $y_1$ such that $y_1$ only contains all the positive values in the $y$. Process $X$ as well. Fit the model with appropriate GLM model (not Gaussian). Report the MSE and can we compare the MSE with previous questions? Hint: it is a continous distribution. "
   ]
  },
  {
   "cell_type": "code",
   "execution_count": 10,
   "id": "c6553dce",
   "metadata": {},
   "outputs": [
    {
     "name": "stdout",
     "output_type": "stream",
     "text": [
      "MSE for Gamma is: 0.2512618530229509\n"
     ]
    },
    {
     "name": "stderr",
     "output_type": "stream",
     "text": [
      "/Users/matthewxue/opt/anaconda3/lib/python3.9/site-packages/statsmodels/genmod/families/links.py:13: FutureWarning: The log link alias is deprecated. Use Log instead. The log link alias will be removed after the 0.15.0 release.\n",
      "  warnings.warn(\n"
     ]
    }
   ],
   "source": [
    "import statsmodels.api as sm\n",
    "from sklearn.model_selection import train_test_split\n",
    "from sklearn.metrics import mean_squared_error\n",
    "\n",
    "# Filter positive values in y and corresponding rows in X\n",
    "positive_mask = y > 0\n",
    "y1 = y[positive_mask]\n",
    "X_filtered = X[positive_mask]\n",
    "\n",
    "X_train, X_test, y_train, y_test = train_test_split(X_filtered, y1, test_size=0.2, random_state=4400)\n",
    "\n",
    "gamma_model = sm.GLM(y_train, X_train, family = sm.families.Gamma(link = sm.families.links.log()))\n",
    "gamma_result = gamma_model.fit()\n",
    "y_pred_gamma = gamma_result.predict(X_test)\n",
    "mse_gamma = mean_squared_error(y_test, y_pred_gamma)\n",
    "\n",
    "print('MSE for Gamma is:', mse_gamma)"
   ]
  },
  {
   "cell_type": "markdown",
   "id": "881fbabf",
   "metadata": {},
   "source": [
    "The mse for gamma was lower than the mse for all previous questions. So we can assume that the gamma distribution is performing better in terms of accuracy.\n"
   ]
  },
  {
   "cell_type": "markdown",
   "id": "7cb1b41b",
   "metadata": {},
   "source": [
    "6. Define a new target variable $y_2$ such that $y_2$ is a binary categorical variable. If $y$ is larger than 1, then $y_2$ is \"group1\", otherwise it is \"group2\". Fit the $y_2$ and $X$ with a logistic regression. Print the summary table with .summary(), and interpret the coefficient for variable 1.  "
   ]
  },
  {
   "cell_type": "code",
   "execution_count": 11,
   "id": "d2274db8",
   "metadata": {},
   "outputs": [
    {
     "name": "stdout",
     "output_type": "stream",
     "text": [
      "0.17381824716985733\n",
      "                 Generalized Linear Model Regression Results                  \n",
      "==============================================================================\n",
      "Dep. Variable:                      y   No. Observations:                  800\n",
      "Model:                            GLM   Df Residuals:                      780\n",
      "Model Family:                Binomial   Df Model:                           19\n",
      "Link Function:                  Logit   Scale:                          1.0000\n",
      "Method:                          IRLS   Log-Likelihood:                -306.60\n",
      "Date:                Mon, 16 Oct 2023   Deviance:                       613.19\n",
      "Time:                        13:23:46   Pearson chi2:                     656.\n",
      "No. Iterations:                     6   Pseudo R-squ. (CS):             0.4357\n",
      "Covariance Type:            nonrobust                                         \n",
      "==============================================================================\n",
      "                 coef    std err          z      P>|z|      [0.025      0.975]\n",
      "------------------------------------------------------------------------------\n",
      "Var1           7.0764      0.514     13.763      0.000       6.069       8.084\n",
      "Var2          -0.9826      0.354     -2.777      0.005      -1.676      -0.289\n",
      "Var3          -0.6608      0.352     -1.875      0.061      -1.352       0.030\n",
      "Var4          -0.0066      0.349     -0.019      0.985      -0.692       0.678\n",
      "Var5           1.3651      0.352      3.878      0.000       0.675       2.055\n",
      "Var6          -0.3831      0.345     -1.109      0.267      -1.060       0.294\n",
      "Var7           0.3903      0.350      1.116      0.264      -0.295       1.076\n",
      "Var8          -0.2019      0.362     -0.557      0.577      -0.912       0.508\n",
      "Var9          -0.5249      0.345     -1.521      0.128      -1.201       0.151\n",
      "Var10         -3.8278      0.413     -9.272      0.000      -4.637      -3.019\n",
      "Var11         -0.2821      0.340     -0.829      0.407      -0.949       0.385\n",
      "Var12         -1.2884      0.350     -3.681      0.000      -1.974      -0.602\n",
      "Var13         -0.6761      0.348     -1.945      0.052      -1.357       0.005\n",
      "Var14         -0.0248      0.340     -0.073      0.942      -0.691       0.642\n",
      "Var15         -0.4967      0.341     -1.457      0.145      -1.165       0.171\n",
      "Var16         -0.9451      0.346     -2.728      0.006      -1.624      -0.266\n",
      "Var17         -0.9919      0.355     -2.796      0.005      -1.687      -0.297\n",
      "Var18          0.6784      0.366      1.856      0.063      -0.038       1.395\n",
      "Var19         -0.2136      0.352     -0.607      0.544      -0.903       0.476\n",
      "Var20          0.4908      0.358      1.371      0.170      -0.211       1.192\n",
      "==============================================================================\n"
     ]
    }
   ],
   "source": [
    "y2 = [1 if val > 1 else 0 for val in y]\n",
    "\n",
    "X_train, X_test, y_train, y_test = train_test_split(X, y2, test_size=0.2, random_state=4400)\n",
    "\n",
    "model = sm.GLM(y_train, X_train, family = sm.families.Binomial())\n",
    "results = model.fit()\n",
    "y_pred = results.predict(X_test)\n",
    "MSE = mean_squared_error(y_test, y_pred)\n",
    "\n",
    "print(MSE)\n",
    "\n",
    "# Print the summary table\n",
    "print(results.summary())"
   ]
  },
  {
   "cell_type": "markdown",
   "id": "4199668b",
   "metadata": {},
   "source": [
    "An increase in variable 1 will lead to a increase in log-odds of the binary outcome by 7.0764 units. So, variable 1 is pretty siginificant for this data."
   ]
  },
  {
   "cell_type": "markdown",
   "id": "bc51d310",
   "metadata": {},
   "source": [
    "#### Question 2: Implement Gradient descend for Polynomial Regression\n",
    "\n",
    "Implement gradient descend method for the polynomial regression. Requirement: \n",
    "1. Write the method as a function, which is given here. Notice that it takes an input \"degree\" (and any other necessary inputs) so that we can change the degree of the polynomial. \n",
    "2. Output the cost history as well as the coefficient estimates. No need to print it or make the figures. As long as it is one of the output. \n",
    "3. Verify your function with the data in Question 1 (You may need to copy/paste and run the answer in Question 1-1 before you run the verification). No need to compare your coefficients to the ones in question 1. This step is only to make sure your functions work. You can set the degree as 2 in the verification. \n",
    "\n",
    "Hint: \n",
    "1. Don't overthinking the question. What is the difference between linear regression and polynomial regression?\n",
    "2. You may need two functions here. One for pre-processing the data, while the other one for gradient desent. You can add more if you need. Like to add another one for the cost function. \n",
    "3. When initializing the theta, think about how many coefficients you may need?"
   ]
  },
  {
   "cell_type": "code",
   "execution_count": 12,
   "id": "1aa9662f",
   "metadata": {},
   "outputs": [],
   "source": [
    "from sklearn.preprocessing import PolynomialFeatures\n",
    "\n",
    "def poly_function(degree, X):\n",
    "    poly = PolynomialFeatures(degree)\n",
    "    X_poly = poly.fit_transform(X)\n",
    "    return X_poly\n",
    "\n",
    "\n",
    "def gradient_descent(X, y, degree, learning_rate=0.01, num_iterations=100):\n",
    "    m, n = X.shape\n",
    "    theta = np.zeros(n)  # Initialize theta with zeros\n",
    "    cost_history = []\n",
    "    \n",
    "    for i in range(num_iterations):\n",
    "        predictions = np.dot(X, theta)\n",
    "        error = predictions - y\n",
    "        gradient = (1 / m) * np.dot(X.T, error)\n",
    "        theta -= learning_rate * gradient\n",
    "        cost = (1 / (2 * m)) * np.sum(error**2)\n",
    "        cost_history.append(cost)\n",
    "        \n",
    "    return theta, cost_history"
   ]
  },
  {
   "cell_type": "code",
   "execution_count": 13,
   "id": "612b7824",
   "metadata": {},
   "outputs": [
    {
     "name": "stdout",
     "output_type": "stream",
     "text": [
      "Coefficient estimates: [ 2.41927794e-02  7.28982067e-02  4.17985792e-03  2.32697937e-03\n",
      "  9.70222450e-03  2.24022756e-02  7.40926656e-03  1.56591430e-02\n",
      "  9.00709137e-03  1.07970732e-02 -1.88434520e-02  7.42170886e-03\n",
      "  2.32812829e-03  8.01735037e-03  1.27137601e-02  7.03280232e-03\n",
      "  3.78497074e-03  1.05633581e-03  1.47522754e-02  9.11309225e-03\n",
      "  1.17639582e-02  7.11546684e-02  3.22669201e-02  3.16416022e-02\n",
      "  3.61887087e-02  4.30924609e-02  3.46494240e-02  3.94454660e-02\n",
      "  3.47462078e-02  3.55264124e-02  1.94656770e-02  3.45404102e-02\n",
      "  3.03633153e-02  3.54292126e-02  3.55555688e-02  3.30206830e-02\n",
      "  3.27189504e-02  2.97834255e-02  3.84292674e-02  3.49161546e-02\n",
      "  3.52040542e-02 -1.73878014e-04 -2.10792548e-03 -4.42635483e-04\n",
      "  8.80105355e-03  1.96950391e-03  2.81835212e-03 -5.86649733e-04\n",
      "  2.49469275e-03 -1.16159638e-02  3.65179544e-05 -4.11180002e-03\n",
      " -3.46963835e-04  8.01379871e-04 -2.59558284e-03 -3.22830541e-03\n",
      " -1.01037484e-03  4.80566552e-03 -7.74884269e-04  1.68173822e-03\n",
      " -3.39176401e-03  2.49954646e-04  6.67459180e-03 -1.87855452e-04\n",
      "  4.54440919e-03 -1.52735529e-03  6.37118628e-04 -1.27342382e-02\n",
      " -2.16421806e-03 -4.39504263e-03 -1.43781322e-03  2.78771572e-03\n",
      " -2.29751037e-03 -3.35156120e-03 -2.97329098e-03  3.91633705e-03\n",
      " -7.13672209e-04  1.97740735e-03  4.68663866e-03  8.11896886e-03\n",
      "  1.65257244e-03  5.74013955e-03  2.37059241e-03  2.12722653e-03\n",
      " -1.10090636e-02  2.12173430e-03 -3.67315351e-03  4.37133133e-03\n",
      "  5.64219471e-03  4.41109501e-04  3.57342753e-03  1.38689574e-03\n",
      "  6.08599843e-03  4.37366458e-03  5.23912691e-03  1.86354349e-02\n",
      "  9.60398917e-03  1.28012213e-02  1.14033487e-02  1.18440567e-02\n",
      " -2.38469492e-03  1.01895519e-02  5.64674795e-03  7.15968137e-03\n",
      "  1.15317553e-02  9.39746894e-03  6.83284811e-03  6.01786371e-03\n",
      "  1.17509996e-02  7.50124863e-03  1.13256090e-02  5.41508888e-03\n",
      "  4.56097639e-03  3.46082328e-03  2.94247949e-03 -1.07742155e-02\n",
      "  2.08511221e-03 -1.60259407e-03  5.37901931e-04  1.85390543e-03\n",
      "  1.52291679e-03 -1.35185096e-03 -2.83088184e-03  5.00519112e-03\n",
      "  2.95000535e-03  4.25200857e-03  1.21533269e-02  8.25649023e-03\n",
      "  7.77150985e-03 -8.39004979e-03  5.24836365e-03  4.75853297e-03\n",
      "  8.41258739e-03  6.59060047e-03  4.20349665e-03  6.10082917e-03\n",
      "  3.84802550e-03  9.92987555e-03  8.06674522e-03  6.66426174e-03\n",
      "  4.02211324e-03  4.25263311e-03 -1.13798478e-02  1.04090171e-03\n",
      " -2.30009940e-03  1.44384463e-03  3.56348836e-03  2.26120153e-03\n",
      "  5.97101584e-04 -2.72292305e-03  6.74872206e-03  1.55015724e-03\n",
      "  5.19568874e-03  6.43961199e-03 -1.14441643e-02  4.28254961e-03\n",
      " -4.37765876e-05  2.75198980e-03  8.37467385e-03  2.16042091e-03\n",
      "  1.86293022e-04 -7.03190519e-04  6.06469574e-03  2.28013482e-03\n",
      "  4.11868743e-03 -2.14469277e-02 -1.26186294e-02 -1.40636059e-02\n",
      " -1.16434852e-02 -9.16632174e-03 -1.36982392e-02 -1.25432231e-02\n",
      " -1.57787409e-02 -7.18523371e-03 -1.11685423e-02 -9.42037383e-03\n",
      "  2.20206215e-03 -4.51844077e-03  7.00869839e-04  6.45255979e-03\n",
      "  7.30734962e-04 -1.33014482e-03 -3.82983693e-03  6.60466201e-03\n",
      "  2.53066954e-03  3.71361661e-03 -1.50335777e-03  2.65406824e-04\n",
      " -8.31306978e-04 -4.09557897e-04 -4.90698197e-03 -6.33299660e-03\n",
      "  1.73106171e-03  1.69378307e-03  1.03801824e-03  3.83972881e-03\n",
      "  5.63631615e-03  9.42948459e-05 -6.51182922e-04 -1.36286870e-03\n",
      "  5.71563646e-03  1.14128472e-03  4.42172203e-03  6.23812217e-03\n",
      "  5.56019968e-03  1.70932276e-03  5.43852974e-04  8.46322420e-03\n",
      "  4.58207033e-03  6.48100867e-03  1.21517463e-03 -1.83391629e-03\n",
      " -2.55322112e-03  3.54297356e-03  4.54326471e-03  5.40799200e-03\n",
      " -2.44062586e-03 -5.82087138e-03  3.77197209e-03 -7.56857485e-04\n",
      "  2.05705317e-03 -4.18553833e-03  2.21335938e-03 -6.14168710e-04\n",
      "  1.56042121e-03  1.02736308e-02  8.47116338e-03  6.89143270e-03\n",
      "  4.36330210e-03  3.83318858e-03  4.68105381e-03]\n",
      "Cost history: [0.195625, 0.16606599086909088, 0.14742677900136003, 0.13559362529076247, 0.1280034622587016, 0.12305935834405814, 0.11976632684393611, 0.11750441911173354, 0.11588735179133282, 0.1146744254590627, 0.11371564612001718, 0.11291753352021504, 0.11222181824071889, 0.11159216906098707, 0.11100592352767909, 0.11044893573712188, 0.10991236627689455, 0.10939068221667758, 0.1088804110122294, 0.10837936412992796, 0.10788615332760673, 0.10739988927297667, 0.10691999376630358, 0.10644608274349832, 0.10597789337851157, 0.10551523866154786, 0.10505797909594562, 0.10460600506076982, 0.10415922581864548, 0.10371756266390486, 0.10328094465036919, 0.10284930592639384, 0.10242258407134718, 0.10200071905606445, 0.1015836525921032, 0.10117132772327629, 0.1007636885681716, 0.1003606801567793, 0.09996224832578868, 0.09956833965047426, 0.09917890139941359, 0.09879388150346546, 0.09841322853366709, 0.09803689168472211, 0.09766482076200568, 0.09729696617079381, 0.09693327890691113, 0.09657371054829515, 0.09621821324716283, 0.09586673972258439, 0.09551924325334177, 0.09517567767099522, 0.09483599735310982, 0.09450015721661192, 0.09416811271125575, 0.09383981981318798, 0.09351523501860254, 0.09319431533747981, 0.09287701828740662, 0.09256330188747447, 0.09225312465225396, 0.09194644558584393, 0.09164322417599358, 0.09134342038829697, 0.09104699466045854, 0.09075390789662859, 0.09046412146180798, 0.09017759717632128, 0.08989429731035704, 0.08961418457857477, 0.0893372221347776, 0.0890633735666499, 0.08879260289055886, 0.08852487454641954, 0.0882601533926223, 0.08799840470102208, 0.08773959415198855, 0.08748368782951658, 0.08723065221639618, 0.08698045418944111, 0.08673306101477563, 0.08648844034317849, 0.0862465602054834, 0.08600738900803583, 0.08577089552820433, 0.0855370489099471, 0.08530581865943188, 0.08507717464070934, 0.08485108707143887, 0.08462752651866627, 0.08440646389465284, 0.08418787045275482, 0.08397171778335297, 0.08375797780983169, 0.08354662278460662, 0.08333762528520051, 0.08313095821036681, 0.08292659477626012, 0.08272450851265294, 0.0825246732591986]\n"
     ]
    }
   ],
   "source": [
    "# Generate polynomial features for X (e.g., degree=2)\n",
    "degree = 2\n",
    "X_poly = poly_function(degree, X_train)\n",
    "\n",
    "# Initialize theta with zeros\n",
    "initial_theta = np.zeros(X_poly.shape[1])\n",
    "\n",
    "# Perform gradient descent for polynomial regression\n",
    "num_iterations = 100\n",
    "learning_rate = 0.01\n",
    "theta, cost_history = gradient_descent(X_poly, y_train, degree, learning_rate, num_iterations)\n",
    "\n",
    "print(\"Coefficient estimates:\", theta)\n",
    "print(\"Cost history:\", cost_history)"
   ]
  },
  {
   "cell_type": "code",
   "execution_count": 14,
   "id": "2bd9b862",
   "metadata": {},
   "outputs": [
    {
     "ename": "ValueError",
     "evalue": "shapes (800,20) and (231,) not aligned: 20 (dim 1) != 231 (dim 0)",
     "output_type": "error",
     "traceback": [
      "\u001b[0;31m---------------------------------------------------------------------------\u001b[0m",
      "\u001b[0;31mValueError\u001b[0m                                Traceback (most recent call last)",
      "Cell \u001b[0;32mIn[14], line 2\u001b[0m\n\u001b[1;32m      1\u001b[0m \u001b[38;5;66;03m# Calculate predictions using the final theta values\u001b[39;00m\n\u001b[0;32m----> 2\u001b[0m predictions \u001b[38;5;241m=\u001b[39m \u001b[43mnp\u001b[49m\u001b[38;5;241;43m.\u001b[39;49m\u001b[43mdot\u001b[49m\u001b[43m(\u001b[49m\u001b[43mX_train\u001b[49m\u001b[43m,\u001b[49m\u001b[43m \u001b[49m\u001b[43mtheta\u001b[49m\u001b[43m)\u001b[49m\n\u001b[1;32m      4\u001b[0m \u001b[38;5;66;03m# Calculate the squared differences between predictions and actual values\u001b[39;00m\n\u001b[1;32m      5\u001b[0m squared_errors \u001b[38;5;241m=\u001b[39m (predictions \u001b[38;5;241m-\u001b[39m y_train) \u001b[38;5;241m*\u001b[39m\u001b[38;5;241m*\u001b[39m \u001b[38;5;241m2\u001b[39m\n",
      "File \u001b[0;32m<__array_function__ internals>:200\u001b[0m, in \u001b[0;36mdot\u001b[0;34m(*args, **kwargs)\u001b[0m\n",
      "\u001b[0;31mValueError\u001b[0m: shapes (800,20) and (231,) not aligned: 20 (dim 1) != 231 (dim 0)"
     ]
    }
   ],
   "source": [
    "# Calculate predictions using the final theta values\n",
    "predictions = np.dot(X_train, theta)\n",
    "\n",
    "# Calculate the squared differences between predictions and actual values\n",
    "squared_errors = (predictions - y_train) ** 2\n",
    "\n",
    "# Calculate the MSE (mean of squared errors)\n",
    "mse = np.mean(squared_errors)\n",
    "\n",
    "print(\"Mean Squared Error (MSE):\", mse)"
   ]
  },
  {
   "cell_type": "markdown",
   "id": "88b738e7",
   "metadata": {},
   "source": [
    "#### Question 3: Simulation study"
   ]
  },
  {
   "cell_type": "markdown",
   "id": "26af4348",
   "metadata": {},
   "source": [
    "Following is a simulation study. In the second code chuck, please correctly label the xlabel and ylabel for the plot. Also explain what this code is trying to do and what you have learned from the generated figure. \n",
    "\n",
    "Hint: in the simulation data, there are 200 observations and it is fixed for each trial. After spliting the training and testing data, each one will have 100 observations. "
   ]
  },
  {
   "cell_type": "code",
   "execution_count": null,
   "id": "ddef77e4",
   "metadata": {},
   "outputs": [],
   "source": [
    "from sklearn.linear_model import LinearRegression\n",
    "from sklearn.metrics import mean_squared_error\n",
    "from sklearn.model_selection import train_test_split\n",
    "import matplotlib.pyplot as plt\n",
    "import pandas as pd\n",
    "import numpy as np\n",
    "\n",
    "# a random seed is set to ensure reproducibility of the random data generation\n",
    "np.random.seed(83) \n",
    "\n",
    "# A will store the number of predictor variables \n",
    "# B will store the mean squared error for each number of predictor variables\n",
    "A = np.arange(5,101,1)\n",
    "B = []\n",
    "\n",
    "for p in A:\n",
    "    \n",
    "    X = pd.DataFrame()\n",
    "    for i in np.arange(1, p+1):\n",
    "        variable_name = f\"Var{i}\"\n",
    "        X[variable_name] = np.random.rand(200)\n",
    "\n",
    "    y = 2 * X[\"Var1\"] - 0.5 * X[\"Var5\"] + np.random.normal(0, 0.5, 200)\n",
    "\n",
    "    X_train, X_test, y_train, y_test = train_test_split(X, y, \n",
    "                                                        test_size=0.5, \n",
    "                                                        random_state=83)\n",
    "    \n",
    "    lm = LinearRegression()\n",
    "    lm.fit(X_train, y_train)\n",
    "    y_pred = lm.predict(X_test)\n",
    "    value = mean_squared_error(y_test, y_pred)\n",
    "    B.append(value)"
   ]
  },
  {
   "cell_type": "code",
   "execution_count": null,
   "id": "4654def2",
   "metadata": {},
   "outputs": [],
   "source": [
    "plt.plot(A, B)\n",
    "plt.xlabel(\"Number of Predictor Variables (p)\")\n",
    "plt.ylabel(\"Mean Squared Error (MSE)\")\n",
    "plt.show()"
   ]
  },
  {
   "cell_type": "markdown",
   "id": "f3515a03",
   "metadata": {},
   "source": [
    "It creates a data frame (X) with p predictor variables (Var1, Var2, ..., Varp), each containing 200 random values.Then, the target variable (y) is created as a linear combination of the first and fifth predictor variables, with some added random noise. We will split the data into training and testing sets, with 50% of the data used for testing. This split is done with a fixed random seed for consistency. A linear regression model is then trained on the training data (X_train and y_train). The model is used to make predictions on the testing data (X_test), and the mean squared error is calculated by comparing the true values (y_test) with the predicted values (y_pred). Finally, the calculated mean squared error is appended to the B array for later analysis."
   ]
  },
  {
   "cell_type": "markdown",
   "id": "dcb8722b",
   "metadata": {},
   "source": [
    "The figure tells us how the model's performance changes as the number of predictor values are added. So there is a potential to overfit as we add more variables"
   ]
  },
  {
   "cell_type": "code",
   "execution_count": null,
   "id": "cfa6c73b",
   "metadata": {},
   "outputs": [],
   "source": []
  }
 ],
 "metadata": {
  "kernelspec": {
   "display_name": "Python 3 (ipykernel)",
   "language": "python",
   "name": "python3"
  },
  "language_info": {
   "codemirror_mode": {
    "name": "ipython",
    "version": 3
   },
   "file_extension": ".py",
   "mimetype": "text/x-python",
   "name": "python",
   "nbconvert_exporter": "python",
   "pygments_lexer": "ipython3",
   "version": "3.9.17"
  }
 },
 "nbformat": 4,
 "nbformat_minor": 5
}
